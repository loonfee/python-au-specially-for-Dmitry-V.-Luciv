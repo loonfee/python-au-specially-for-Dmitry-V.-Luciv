{
 "cells": [
  {
   "cell_type": "code",
   "execution_count": 5,
   "id": "2421fa85",
   "metadata": {
    "scrolled": true
   },
   "outputs": [
    {
     "name": "stdout",
     "output_type": "stream",
     "text": [
      "0.9999563752670169\n",
      "0.14043354988098145\n"
     ]
    }
   ],
   "source": [
    "import time\n",
    "from numba import njit, prange\n",
    "from math import cos, pi\n",
    "import random as rnd\n",
    "@njit(fastmath=True)\n",
    "def integral(n):\n",
    "    k = 0\n",
    "    for _ in prange(n):\n",
    "        x = rnd.uniform(0, pi * 0.5)\n",
    "        y = rnd.uniform(0, 1)\n",
    "        if y < cos( x ):\n",
    "            k += 1\n",
    "    return pi * 0.5 * k/n\n",
    "timer = time.time()\n",
    "area = integral(1000000)\n",
    "print(area)\n",
    "print(time.time() - timer)"
   ]
  },
  {
   "cell_type": "code",
   "execution_count": null,
   "id": "43281f57",
   "metadata": {},
   "outputs": [],
   "source": [
    "'''\n",
    "было 0,6\n",
    "очень круто\n",
    "только не понятно почему работает\n",
    "''' "
   ]
  }
 ],
 "metadata": {
  "kernelspec": {
   "display_name": "Python 3 (ipykernel)",
   "language": "python",
   "name": "python3"
  },
  "language_info": {
   "codemirror_mode": {
    "name": "ipython",
    "version": 3
   },
   "file_extension": ".py",
   "mimetype": "text/x-python",
   "name": "python",
   "nbconvert_exporter": "python",
   "pygments_lexer": "ipython3",
   "version": "3.9.7"
  }
 },
 "nbformat": 4,
 "nbformat_minor": 5
}
